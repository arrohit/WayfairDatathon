{
 "cells": [
  {
   "cell_type": "code",
   "execution_count": 1,
   "metadata": {},
   "outputs": [],
   "source": [
    "%load_ext autoreload\n",
    "%autoreload 1"
   ]
  },
  {
   "cell_type": "code",
   "execution_count": 2,
   "metadata": {},
   "outputs": [],
   "source": [
    "import matplotlib.pyplot as plt\n",
    "%matplotlib inline\n",
    "import numpy as np\n",
    "import pandas as pd\n",
    "import dask.dataframe as dd\n",
    "import os"
   ]
  },
  {
   "cell_type": "code",
   "execution_count": 3,
   "metadata": {},
   "outputs": [],
   "source": [
    "clickstreams_purchase_csv = os.path.join('Datathon Materials 2', 'clickstreams_with_purchase.csv.gz')\n",
    "#Assuming the notebook file will be in the same folder where Datathon Materials 2 is present"
   ]
  },
  {
   "cell_type": "code",
   "execution_count": 4,
   "metadata": {},
   "outputs": [],
   "source": [
    "clickstream_pur_dtype = {'customer_id': 'int64', 'product_id': 'int64', 'ordered': 'float32', 'date': 'str', 'time':'str', 'page_viewed': 'str'}"
   ]
  },
  {
   "cell_type": "code",
   "execution_count": 5,
   "metadata": {},
   "outputs": [],
   "source": [
    "click_pur_df = dd.read_csv(clickstreams_purchase_csv, compression='gzip', blocksize=None, dtype=clickstream_pur_dtype)"
   ]
  },
  {
   "cell_type": "code",
   "execution_count": 6,
   "metadata": {},
   "outputs": [
    {
     "name": "stdout",
     "output_type": "stream",
     "text": [
      "<class 'dask.dataframe.core.DataFrame'>\n",
      "Columns: 6 entries, customer_id to ordered\n",
      "dtypes: object(3), float32(1), int64(2)\n",
      "memory usage: 464.0 MB\n"
     ]
    }
   ],
   "source": [
    "click_pur_df.info(memory_usage='deep')"
   ]
  },
  {
   "cell_type": "code",
   "execution_count": 7,
   "metadata": {},
   "outputs": [
    {
     "data": {
      "text/html": [
       "<div>\n",
       "<style scoped>\n",
       "    .dataframe tbody tr th:only-of-type {\n",
       "        vertical-align: middle;\n",
       "    }\n",
       "\n",
       "    .dataframe tbody tr th {\n",
       "        vertical-align: top;\n",
       "    }\n",
       "\n",
       "    .dataframe thead th {\n",
       "        text-align: right;\n",
       "    }\n",
       "</style>\n",
       "<table border=\"1\" class=\"dataframe\">\n",
       "  <thead>\n",
       "    <tr style=\"text-align: right;\">\n",
       "      <th></th>\n",
       "      <th>customer_id</th>\n",
       "      <th>date</th>\n",
       "      <th>time</th>\n",
       "      <th>page_viewed</th>\n",
       "      <th>product_id</th>\n",
       "      <th>ordered</th>\n",
       "    </tr>\n",
       "  </thead>\n",
       "  <tbody>\n",
       "    <tr>\n",
       "      <th>0</th>\n",
       "      <td>1436364061643577713</td>\n",
       "      <td>2018-07-16</td>\n",
       "      <td>14:37:44</td>\n",
       "      <td>HOMEPAGE</td>\n",
       "      <td>0</td>\n",
       "      <td>0.0</td>\n",
       "    </tr>\n",
       "    <tr>\n",
       "      <th>1</th>\n",
       "      <td>1436364061643577713</td>\n",
       "      <td>2018-07-16</td>\n",
       "      <td>14:40:44</td>\n",
       "      <td>PRODUCTSIMPLESKU</td>\n",
       "      <td>205401096165894320</td>\n",
       "      <td>0.0</td>\n",
       "    </tr>\n",
       "    <tr>\n",
       "      <th>2</th>\n",
       "      <td>1436364061643577713</td>\n",
       "      <td>2018-07-16</td>\n",
       "      <td>14:42:39</td>\n",
       "      <td>PRODUCTSIMPLESKU</td>\n",
       "      <td>9220344733964903803</td>\n",
       "      <td>0.0</td>\n",
       "    </tr>\n",
       "    <tr>\n",
       "      <th>3</th>\n",
       "      <td>1436364061643577713</td>\n",
       "      <td>2018-07-16</td>\n",
       "      <td>14:42:53</td>\n",
       "      <td>PRODUCTSIMPLESKU</td>\n",
       "      <td>9220344733964903803</td>\n",
       "      <td>0.0</td>\n",
       "    </tr>\n",
       "    <tr>\n",
       "      <th>4</th>\n",
       "      <td>1436364061643577713</td>\n",
       "      <td>2018-07-16</td>\n",
       "      <td>14:44:46</td>\n",
       "      <td>KEYWORDSEARCH</td>\n",
       "      <td>0</td>\n",
       "      <td>0.0</td>\n",
       "    </tr>\n",
       "  </tbody>\n",
       "</table>\n",
       "</div>"
      ],
      "text/plain": [
       "           customer_id        date      time       page_viewed  \\\n",
       "0  1436364061643577713  2018-07-16  14:37:44          HOMEPAGE   \n",
       "1  1436364061643577713  2018-07-16  14:40:44  PRODUCTSIMPLESKU   \n",
       "2  1436364061643577713  2018-07-16  14:42:39  PRODUCTSIMPLESKU   \n",
       "3  1436364061643577713  2018-07-16  14:42:53  PRODUCTSIMPLESKU   \n",
       "4  1436364061643577713  2018-07-16  14:44:46     KEYWORDSEARCH   \n",
       "\n",
       "            product_id  ordered  \n",
       "0                    0      0.0  \n",
       "1   205401096165894320      0.0  \n",
       "2  9220344733964903803      0.0  \n",
       "3  9220344733964903803      0.0  \n",
       "4                    0      0.0  "
      ]
     },
     "execution_count": 7,
     "metadata": {},
     "output_type": "execute_result"
    }
   ],
   "source": [
    "click_pur_df.head()"
   ]
  },
  {
   "cell_type": "code",
   "execution_count": null,
   "metadata": {},
   "outputs": [],
   "source": [
    "click_pur_chunk_df = pd.read_csv(clickstreams_purchase_csv, compression='gzip', chunksize=1000, dtype=clickstream_pur_dtype)\n",
    "click_pur_df = pd.concat(click_pur_chunk_df, ignore_index=True)"
   ]
  }
 ],
 "metadata": {
  "kernelspec": {
   "display_name": "Python 3",
   "language": "python",
   "name": "python3"
  },
  "language_info": {
   "codemirror_mode": {
    "name": "ipython",
    "version": 3
   },
   "file_extension": ".py",
   "mimetype": "text/x-python",
   "name": "python",
   "nbconvert_exporter": "python",
   "pygments_lexer": "ipython3",
   "version": "3.7.0"
  }
 },
 "nbformat": 4,
 "nbformat_minor": 2
}
